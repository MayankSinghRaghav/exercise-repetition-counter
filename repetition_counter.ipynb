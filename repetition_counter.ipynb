{
 "cells": [
  {
   "cell_type": "code",
   "execution_count": 19,
   "id": "b755a9d5-906d-4b16-8f31-cfa8395d01fd",
   "metadata": {},
   "outputs": [
    {
     "name": "stdout",
     "output_type": "stream",
     "text": [
      "Requirement already satisfied: mediapipe in c:\\users\\mayan\\.conda\\envs\\churnguard-env\\lib\\site-packages (0.10.21)\n",
      "Requirement already satisfied: opencv-python in c:\\users\\mayan\\.conda\\envs\\churnguard-env\\lib\\site-packages (4.11.0.86)\n",
      "Requirement already satisfied: matplotlib in c:\\users\\mayan\\appdata\\roaming\\python\\python310\\site-packages (3.10.3)\n",
      "Requirement already satisfied: absl-py in c:\\users\\mayan\\appdata\\roaming\\python\\python310\\site-packages (from mediapipe) (2.3.0)\n",
      "Requirement already satisfied: attrs>=19.1.0 in c:\\users\\mayan\\appdata\\roaming\\python\\python310\\site-packages (from mediapipe) (25.3.0)\n",
      "Requirement already satisfied: flatbuffers>=2.0 in c:\\users\\mayan\\appdata\\roaming\\python\\python310\\site-packages (from mediapipe) (25.2.10)\n",
      "Requirement already satisfied: jax in c:\\users\\mayan\\.conda\\envs\\churnguard-env\\lib\\site-packages (from mediapipe) (0.6.2)\n",
      "Requirement already satisfied: jaxlib in c:\\users\\mayan\\.conda\\envs\\churnguard-env\\lib\\site-packages (from mediapipe) (0.6.2)\n",
      "Requirement already satisfied: numpy<2 in c:\\users\\mayan\\appdata\\roaming\\python\\python310\\site-packages (from mediapipe) (1.26.3)\n",
      "Requirement already satisfied: opencv-contrib-python in c:\\users\\mayan\\.conda\\envs\\churnguard-env\\lib\\site-packages (from mediapipe) (4.11.0.86)\n",
      "Requirement already satisfied: protobuf<5,>=4.25.3 in c:\\users\\mayan\\.conda\\envs\\churnguard-env\\lib\\site-packages (from mediapipe) (4.25.8)\n",
      "Requirement already satisfied: sounddevice>=0.4.4 in c:\\users\\mayan\\.conda\\envs\\churnguard-env\\lib\\site-packages (from mediapipe) (0.5.2)\n",
      "Requirement already satisfied: sentencepiece in c:\\users\\mayan\\.conda\\envs\\churnguard-env\\lib\\site-packages (from mediapipe) (0.2.1)\n",
      "Requirement already satisfied: contourpy>=1.0.1 in c:\\users\\mayan\\appdata\\roaming\\python\\python310\\site-packages (from matplotlib) (1.3.2)\n",
      "Requirement already satisfied: cycler>=0.10 in c:\\users\\mayan\\appdata\\roaming\\python\\python310\\site-packages (from matplotlib) (0.12.1)\n",
      "Requirement already satisfied: fonttools>=4.22.0 in c:\\users\\mayan\\appdata\\roaming\\python\\python310\\site-packages (from matplotlib) (4.58.1)\n",
      "Requirement already satisfied: kiwisolver>=1.3.1 in c:\\users\\mayan\\appdata\\roaming\\python\\python310\\site-packages (from matplotlib) (1.4.8)\n",
      "Requirement already satisfied: packaging>=20.0 in c:\\users\\mayan\\appdata\\roaming\\python\\python310\\site-packages (from matplotlib) (24.2)\n",
      "Requirement already satisfied: pillow>=8 in c:\\users\\mayan\\appdata\\roaming\\python\\python310\\site-packages (from matplotlib) (11.2.1)\n",
      "Requirement already satisfied: pyparsing>=2.3.1 in c:\\users\\mayan\\appdata\\roaming\\python\\python310\\site-packages (from matplotlib) (3.2.3)\n",
      "Requirement already satisfied: python-dateutil>=2.7 in c:\\users\\mayan\\appdata\\roaming\\python\\python310\\site-packages (from matplotlib) (2.9.0.post0)\n",
      "Requirement already satisfied: six>=1.5 in c:\\users\\mayan\\appdata\\roaming\\python\\python310\\site-packages (from python-dateutil>=2.7->matplotlib) (1.17.0)\n",
      "Requirement already satisfied: CFFI>=1.0 in c:\\users\\mayan\\.conda\\envs\\churnguard-env\\lib\\site-packages (from sounddevice>=0.4.4->mediapipe) (1.17.1)\n",
      "Requirement already satisfied: pycparser in c:\\users\\mayan\\.conda\\envs\\churnguard-env\\lib\\site-packages (from CFFI>=1.0->sounddevice>=0.4.4->mediapipe) (2.22)\n",
      "Requirement already satisfied: ml_dtypes>=0.5.0 in c:\\users\\mayan\\appdata\\roaming\\python\\python310\\site-packages (from jax->mediapipe) (0.5.1)\n",
      "Requirement already satisfied: opt_einsum in c:\\users\\mayan\\appdata\\roaming\\python\\python310\\site-packages (from jax->mediapipe) (3.4.0)\n",
      "Requirement already satisfied: scipy>=1.12 in c:\\users\\mayan\\appdata\\roaming\\python\\python310\\site-packages (from jax->mediapipe) (1.15.3)\n"
     ]
    },
    {
     "name": "stderr",
     "output_type": "stream",
     "text": [
      "\n",
      "[notice] A new release of pip is available: 25.1.1 -> 25.2\n",
      "[notice] To update, run: python.exe -m pip install --upgrade pip\n"
     ]
    }
   ],
   "source": [
    "!pip install mediapipe opencv-python matplotlib\n"
   ]
  },
  {
   "cell_type": "markdown",
   "id": "a7cd3986-3cf8-427b-8803-2bdfa783ce06",
   "metadata": {},
   "source": [
    "# Load Video & Initialize MediaPipe"
   ]
  },
  {
   "cell_type": "code",
   "execution_count": 4,
   "id": "5e067fb8-3ec5-4211-b449-fe34cecbc6de",
   "metadata": {},
   "outputs": [],
   "source": [
    "import cv2\n",
    "import mediapipe as mp\n",
    "\n",
    "mp_pose = mp.solutions.pose\n",
    "pose = mp_pose.Pose(min_detection_confidence=0.5, min_tracking_confidence=0.5)\n",
    "mp_draw = mp.solutions.drawing_utils\n",
    "\n",
    "cap = cv2.VideoCapture(\"demo video.mp4\")  # Replace with your video file\n"
   ]
  },
  {
   "cell_type": "markdown",
   "id": "1dd9b70f-974b-4c93-9d0e-8c4f4b906374",
   "metadata": {},
   "source": [
    "# Track Landmarks"
   ]
  },
  {
   "cell_type": "code",
   "execution_count": 6,
   "id": "4340df98-c8c2-48d0-beaf-311881f3b8cc",
   "metadata": {},
   "outputs": [],
   "source": [
    "while cap.isOpened():\n",
    "    ret, frame = cap.read()\n",
    "    if not ret:\n",
    "        break\n",
    "    \n",
    "    frame_rgb = cv2.cvtColor(frame, cv2.COLOR_BGR2RGB)\n",
    "    results = pose.process(frame_rgb)\n",
    "\n",
    "    if results.pose_landmarks:\n",
    "        mp_draw.draw_landmarks(frame, results.pose_landmarks, mp_pose.POSE_CONNECTIONS)\n",
    "    \n",
    "    cv2.imshow(\"Exercise\", frame)\n",
    "    if cv2.waitKey(10) & 0xFF == ord('q'):\n",
    "        break\n",
    "\n",
    "cap.release()\n",
    "cv2.destroyAllWindows()\n"
   ]
  },
  {
   "cell_type": "markdown",
   "id": "5f00f227-427b-4f26-8d0e-6fedb6b3a5be",
   "metadata": {},
   "source": [
    "# Define Rule-Based Repetition Counter"
   ]
  },
  {
   "cell_type": "code",
   "execution_count": 7,
   "id": "424af971-089a-49a0-a5d4-5f3ee9073647",
   "metadata": {},
   "outputs": [],
   "source": [
    "counter = 0\n",
    "stage = None  # \"down\" or \"up\"\n",
    "\n",
    "while cap.isOpened():\n",
    "    ret, frame = cap.read()\n",
    "    if not ret:\n",
    "        break\n",
    "    \n",
    "    frame_rgb = cv2.cvtColor(frame, cv2.COLOR_BGR2RGB)\n",
    "    results = pose.process(frame_rgb)\n",
    "\n",
    "    if results.pose_landmarks:\n",
    "        landmarks = results.pose_landmarks.landmark\n",
    "\n",
    "        hip = landmarks[mp_pose.PoseLandmark.LEFT_HIP.value].y\n",
    "        knee = landmarks[mp_pose.PoseLandmark.LEFT_KNEE.value].y\n",
    "\n",
    "        # Rule: squat = hip below knee -> then back up\n",
    "        if hip > knee and stage != \"down\":\n",
    "            stage = \"down\"\n",
    "        if hip < knee and stage == \"down\":\n",
    "            stage = \"up\"\n",
    "            counter += 1\n",
    "\n",
    "        cv2.putText(frame, f\"Reps: {counter}\", (50, 100),\n",
    "                    cv2.FONT_HERSHEY_SIMPLEX, 2, (0, 255, 0), 3)\n",
    "\n",
    "        mp_draw.draw_landmarks(frame, results.pose_landmarks, mp_pose.POSE_CONNECTIONS)\n",
    "\n",
    "    cv2.imshow(\"Exercise\", frame)\n",
    "    if cv2.waitKey(10) & 0xFF == ord('q'):\n",
    "        break\n"
   ]
  },
  {
   "cell_type": "code",
   "execution_count": null,
   "id": "d0783a3b-724e-44b6-91da-9a6fe1174f3f",
   "metadata": {},
   "outputs": [],
   "source": []
  }
 ],
 "metadata": {
  "kernelspec": {
   "display_name": "Python [conda env:.conda-churnguard-env]",
   "language": "python",
   "name": "conda-env-.conda-churnguard-env-py"
  },
  "language_info": {
   "codemirror_mode": {
    "name": "ipython",
    "version": 3
   },
   "file_extension": ".py",
   "mimetype": "text/x-python",
   "name": "python",
   "nbconvert_exporter": "python",
   "pygments_lexer": "ipython3",
   "version": "3.10.18"
  }
 },
 "nbformat": 4,
 "nbformat_minor": 5
}
